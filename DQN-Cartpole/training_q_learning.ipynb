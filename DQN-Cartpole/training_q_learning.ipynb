{
  "nbformat": 4,
  "nbformat_minor": 0,
  "metadata": {
    "accelerator": "GPU",
    "colab": {
      "name": "training_q_learning.ipynb",
      "provenance": [],
      "collapsed_sections": [
        "ZFW05dxqY7nU",
        "wEEV7qefjKKb",
        "9m4PEscghHug",
        "uHRj7pVIY7nb",
        "IvqltimhY7nh",
        "fT8o7oXAY7ni"
      ]
    },
    "kernelspec": {
      "display_name": "Python 3",
      "language": "python",
      "name": "python3"
    },
    "language_info": {
      "codemirror_mode": {
        "name": "ipython",
        "version": 3
      },
      "file_extension": ".py",
      "mimetype": "text/x-python",
      "name": "python",
      "nbconvert_exporter": "python",
      "pygments_lexer": "ipython3",
      "version": "3.6.9"
    }
  },
  "cells": [
    {
      "cell_type": "markdown",
      "metadata": {
        "id": "fuWLQT-1Y7nC"
      },
      "source": [
        "# DQN vs. DSQN for the CartPole Environment"
      ]
    },
    {
      "cell_type": "markdown",
      "metadata": {
        "id": "7oipXcfdsJ-L"
      },
      "source": [
        "## Miscellaneous"
      ]
    },
    {
      "cell_type": "code",
      "metadata": {
        "colab": {
          "base_uri": "https://localhost:8080/"
        },
        "id": "JbIJzg8bavo4",
        "outputId": "1bf5d640-59ef-4a5e-b12b-074cf21028e7"
      },
      "source": [
        "from google.colab import drive\n",
        "drive.mount('/content/drive')"
      ],
      "execution_count": 2,
      "outputs": [
        {
          "output_type": "stream",
          "name": "stdout",
          "text": [
            "Drive already mounted at /content/drive; to attempt to forcibly remount, call drive.mount(\"/content/drive\", force_remount=True).\n"
          ]
        }
      ]
    },
    {
      "cell_type": "code",
      "metadata": {
        "id": "ewRHcGuKgQkq"
      },
      "source": [
        "basis_dir = '/content/drive/My Drive/Uni/MasterArbeit/dsqn_examples/results/'"
      ],
      "execution_count": 3,
      "outputs": []
    },
    {
      "cell_type": "code",
      "metadata": {
        "id": "FkLgdYCza2eX"
      },
      "source": [
        "!cp drive/My\\ Drive/Uni/MasterArbeit/dsqn_examples/DQN-Cartpole/agent.py .\n",
        "!cp drive/My\\ Drive/Uni/MasterArbeit/dsqn_examples/DQN-Cartpole/model.py .\n",
        "!cp drive/My\\ Drive/Uni/MasterArbeit/dsqn_examples/DQN-Cartpole/model_twoneurons.py .\n",
        "!cp drive/My\\ Drive/Uni/MasterArbeit/dsqn_examples/DQN-Cartpole/model_poisson.py ."
      ],
      "execution_count": 4,
      "outputs": []
    },
    {
      "cell_type": "code",
      "metadata": {
        "id": "i1Dn8yD2r_D6",
        "colab": {
          "base_uri": "https://localhost:8080/"
        },
        "outputId": "56e18d59-a9dc-4b44-e99b-be30ab1e6182"
      },
      "source": [
        "!rm /etc/localtime\n",
        "!ln -s /usr/share/zoneinfo/Europe/Berlin /etc/localtime\n",
        "!date"
      ],
      "execution_count": 5,
      "outputs": [
        {
          "output_type": "stream",
          "name": "stdout",
          "text": [
            "Wed Nov  3 14:29:10 CET 2021\n"
          ]
        }
      ]
    },
    {
      "cell_type": "markdown",
      "metadata": {
        "id": "QWPneI_nsEOx"
      },
      "source": [
        "## Setup"
      ]
    },
    {
      "cell_type": "code",
      "metadata": {
        "id": "n-N3ySIiY7nM"
      },
      "source": [
        "#@title Imports{ form-width: \"20%\", display-mode: \"form\" }\n",
        "import os\n",
        "import gym\n",
        "import torch\n",
        "import random\n",
        "\n",
        "import numpy as np\n",
        "import seaborn as sns\n",
        "import torch.optim as optim\n",
        "import matplotlib.pyplot as plt\n",
        "import importlib\n",
        "import json\n",
        "\n",
        "from datetime import date, datetime\n",
        "\n",
        "from agent import Agent, ReplayBuffer\n",
        "from matplotlib.gridspec import GridSpec\n",
        "\n",
        "%matplotlib inline"
      ],
      "execution_count": 6,
      "outputs": []
    },
    {
      "cell_type": "code",
      "metadata": {
        "id": "hptOh61RuVQX",
        "colab": {
          "base_uri": "https://localhost:8080/"
        },
        "outputId": "96de0e09-b844-4ea9-9838-938ce174b768"
      },
      "source": [
        "experiment_type = [\"default\",\"twoneuron\", \"poisson\" ]\n",
        "type_nr = 0\n",
        "\n",
        "if experiment_type[type_nr] == \"default\":\n",
        "    from model import QNetwork, DSNN \n",
        "elif experiment_type[type_nr] == \"twoneuron\":\n",
        "    from model_twoneurons import QNetwork, DSNN\n",
        "elif experiment_type[type_nr] == \"poisson\":\n",
        "    from model_poisson import QNetwork, DSNN\n",
        "else :\n",
        "    from model import QNetwork, DSNN\n",
        "print(\"Imported {} model\".format(experiment_type[type_nr]))"
      ],
      "execution_count": 7,
      "outputs": [
        {
          "output_type": "stream",
          "name": "stdout",
          "text": [
            "Imported default model\n"
          ]
        }
      ]
    },
    {
      "cell_type": "code",
      "metadata": {
        "id": "Cy_5z_yLY7nO"
      },
      "source": [
        "# Environment specific parameters\n",
        "env_name = 'CartPole-v0'\n",
        "n_runs = 5\n",
        "n_evaluations = 100\n",
        "max_steps = 200\n",
        "num_episodes = 1000\n",
        "\n",
        "device = torch.device(\"cuda:0\" if torch.cuda.is_available() else \"cpu\")"
      ],
      "execution_count": 8,
      "outputs": []
    },
    {
      "cell_type": "code",
      "metadata": {
        "colab": {
          "base_uri": "https://localhost:8080/"
        },
        "id": "WGX9mUehY7nP",
        "outputId": "5e24105e-c2fe-4f39-f570-98a47c7b97dc"
      },
      "source": [
        "# Create Results Directory\n",
        "\n",
        "dirs = os.listdir(basis_dir)\n",
        "print(dirs)\n",
        "if not any('result' in d for d in dirs):\n",
        "    result_id = 1\n",
        "else:\n",
        "    results = [d for d in dirs if 'result' in d]\n",
        "    result_id = len(results) + 1\n",
        "\n",
        "# Get today's date and add it to the results directory\n",
        "d = date.today()\n",
        "result_dir = basis_dir  +'result_'+ str(result_id) + '_' + experiment_type[type_nr] + '_{}'.format(\n",
        "    str(d.year) + str(d.month) + str(d.day))\n",
        "os.mkdir(result_dir)\n",
        "print('Created Directory {} to store the results in'.format(result_dir))\n"
      ],
      "execution_count": 14,
      "outputs": [
        {
          "output_type": "stream",
          "name": "stdout",
          "text": [
            "['result_1_20211026', 'seeds_goodvalues.npy', '__pycache__', 'seeds.npy', 'result_2_20211027', 'result_3_20211027', 'result_4_twoneuron_20211028', 'result_5_poisson_20211029', 'result_6_twoneuron_20211030', 'result_7_twoneuron_2021112', 'result_8_twoneuron_2021112', 'result_9_default_2021112', 'result_10_default_2021112', 'result_11_default_2021112', 'result_12_default_2021112', 'result_13_default_2021112', 'result_14_default_2021112', 'result_15_default_2021112', 'result_16_default_2021112', 'result_17_default_2021112', 'result_18_default_2021112', 'result_19_default_2021112', 'result_20_default_2021113', 'result_21_default_2021113', 'result_22_poisson_2021113', 'result_23_default_2021113']\n",
            "Created Directory /content/drive/My Drive/Uni/MasterArbeit/dsqn_examples/results/result_24_default_2021113 to store the results in\n"
          ]
        }
      ]
    },
    {
      "cell_type": "code",
      "metadata": {
        "id": "92OumBHMc1Io"
      },
      "source": [
        "#@title Change Result Directory { form-width: \"20%\", display-mode: \"form\" }\n",
        "#result_dir = 'result_12_20211028'"
      ],
      "execution_count": 10,
      "outputs": []
    },
    {
      "cell_type": "code",
      "metadata": {
        "id": "xbsSYOATY7nR"
      },
      "source": [
        "#@title Hyperparameters { form-width: \"20%\", display-mode: \"form\" }\n",
        "batch_size = 128\n",
        "discount_factor = 0.999\n",
        "eps_start = 1.0\n",
        "eps_end = 0.05\n",
        "eps_decay = 0.999\n",
        "update_every = 4\n",
        "target_update_frequency = 50\n",
        "learning_rate = 0.005\n",
        "replay_memory_size = 4*10**4\n",
        "tau = 1e-3"
      ],
      "execution_count": 11,
      "outputs": []
    },
    {
      "cell_type": "code",
      "metadata": {
        "id": "fqz8TdGUY7nS"
      },
      "source": [
        "#@title SNN Hyperparameters { form-width: \"20%\", display-mode: \"form\" }\n",
        "time_step = 1e-3\n",
        "simulation_time = 10\n",
        "weight_scale = 1\n",
        "threshold = 0.08\n",
        "architecture = [4, 64, 64, 2]\n",
        "\n",
        "# Tau\n",
        "tau_mem = 10e-3\n",
        "tau_syn = 5e-3\n",
        "alpha = 1\n",
        "beta = 1\n",
        "alpha   = float(np.exp(-time_step/tau_syn))\n",
        "beta    = float(np.exp(-time_step/tau_mem))\n"
      ],
      "execution_count": 12,
      "outputs": []
    },
    {
      "cell_type": "code",
      "metadata": {
        "id": "AqNxA0mQY7nT"
      },
      "source": [
        "#seeds = [random.getrandbits(32) for _ in range(n_runs)]\n",
        "#np.save('seeds', seeds)\n",
        "seeds = np.load(basis_dir + 'seeds.npy').tolist()"
      ],
      "execution_count": 13,
      "outputs": []
    },
    {
      "cell_type": "code",
      "metadata": {
        "id": "cDQEvJkOkme8"
      },
      "source": [
        "#@title Useful Functions { form-width: \"20%\", display-mode: \"form\" }\n",
        "def loadScores(score_dir, score_name, amount):\n",
        "    score_list = []\n",
        "    for i in range(amount):\n",
        "      score_list.append(np.load(score_dir + '/' + score_name + '_{}'.format(i) + '.npy'))\n",
        "    return score_list\n",
        "\n",
        "def saveHyperparameters():\n",
        "    params = {}\n",
        "    params.update( {'batch_size' : batch_size} )\n",
        "    params.update( {'discount_factor' : discount_factor} )\n",
        "    params.update( {'eps_start' : eps_start} )\n",
        "    params.update( {'eps_end' : eps_end} )\n",
        "    params.update( {'eps_decay' : eps_decay} )\n",
        "    params.update( {'update_every' : update_every} )\n",
        "    params.update( {'target_update_frequency' : target_update_frequency} )\n",
        "    params.update( {'learning_rate' : learning_rate} )\n",
        "    params.update( {'replay_memory_size' : replay_memory_size} )\n",
        "\n",
        "    params.update( {'tau' : tau} )\n",
        "    params.update( {'time_step' : time_step} )\n",
        "    params.update( {'simulation_time' : simulation_time} )\n",
        "    params.update( {'alpha' : alpha} )\n",
        "    params.update( {'beta' : beta} )\n",
        "    params.update( {'weight_scale' : weight_scale} )\n",
        "    params.update( {'threshold' : threshold} )\n",
        "    params.update( {'architecture' : architecture} )\n",
        "\n",
        "    # Serialize data into file:\n",
        "    json.dump( params, open( result_dir +\"/hyperparameters.json\", 'w' ) )\n",
        "\n",
        "def getDateTime():\n",
        "  return datetime.now().strftime(\"%d/%m/%Y %H:%M:%S\")  \n",
        "\n",
        "# Plot scores of individual runs\n",
        "def plot_score(smoothed_score,i):\n",
        "    fig = plt.figure()\n",
        "    plt.plot(smoothed_score)\n",
        "    plt.ylim(0, 250)\n",
        "    plt.grid(True)\n",
        "    plt.savefig(result_dir + '/training_dsqn_{}.png'.format(i), dpi=1000)\n",
        "    plt.show()"
      ],
      "execution_count": 17,
      "outputs": []
    },
    {
      "cell_type": "markdown",
      "metadata": {
        "id": "g2lIdw3XhSTI"
      },
      "source": [
        "# DQN"
      ]
    },
    {
      "cell_type": "markdown",
      "metadata": {
        "id": "ZFW05dxqY7nU"
      },
      "source": [
        "## DQN Training"
      ]
    },
    {
      "cell_type": "code",
      "metadata": {
        "colab": {
          "base_uri": "https://localhost:8080/"
        },
        "id": "-Kau_vuPY7nV",
        "scrolled": false,
        "outputId": "8952da70-7e9a-4a3b-93a9-8bc11c05676e"
      },
      "source": [
        "smoothed_scores_dqn_all = []\n",
        "dqn_completion_after = []\n",
        "best_runs = []\n",
        "\n",
        "for i_run in range(n_runs):\n",
        "    print(\"Run # {}\".format(i_run))\n",
        "    seed = seeds[i_run]\n",
        "    \n",
        "    torch.manual_seed(seed)\n",
        "    random.seed(seed)\n",
        "\n",
        "    policy_net = QNetwork(architecture, seed).to(device)\n",
        "    target_net = QNetwork(architecture, seed).to(device)\n",
        "    target_net.load_state_dict(policy_net.state_dict())\n",
        "\n",
        "    optimizer = optim.Adam(policy_net.parameters(), lr=learning_rate)\n",
        "    agent = Agent(env_name, policy_net, target_net, architecture, batch_size,\n",
        "                  replay_memory_size, discount_factor, eps_start, eps_end, eps_decay,\n",
        "                  update_every, target_update_frequency, optimizer, learning_rate,\n",
        "                  num_episodes, max_steps, i_run, result_dir, seed, tau)\n",
        "    \n",
        "    smoothed_scores, scores, best_average_after = agent.train_agent()\n",
        "\n",
        "    np.save(result_dir + '/scores_{}'.format(i_run), scores)\n",
        "    np.save(result_dir + '/smoothed_scores_DQN_{}'.format(i_run), smoothed_scores)\n",
        "\n",
        "    # save smoothed scores in list to plot later\n",
        "    dqn_completion_after.append(best_average_after)\n",
        "    smoothed_scores_dqn_all.append(smoothed_scores)\n",
        "    print(\"\")"
      ],
      "execution_count": null,
      "outputs": [
        {
          "name": "stdout",
          "output_type": "stream",
          "text": [
            "Run # 0\n",
            "Episode 100\tAverage Score: 25.83\n",
            "Episode 200\tAverage Score: 187.48\n",
            "Episode 300\tAverage Score: 196.65\n",
            "Episode 400\tAverage Score: 198.97\n",
            "Episode 500\tAverage Score: 200.00\n",
            "Episode 600\tAverage Score: 196.62\n",
            "Episode 700\tAverage Score: 140.69\n",
            "Episode 800\tAverage Score: 103.39\n",
            "Episode 900\tAverage Score: 200.00\n",
            "Episode 1000\tAverage Score: 188.04\n",
            "Best 100 episode average:  200.0  reached at episode  408 . Model saved in folder best.\n",
            "\n",
            "Run # 1\n",
            "Episode 100\tAverage Score: 35.89\n",
            "Episode 200\tAverage Score: 167.63\n",
            "Episode 300\tAverage Score: 199.89\n",
            "Episode 400\tAverage Score: 177.63\n",
            "Episode 500\tAverage Score: 166.31\n",
            "Episode 600\tAverage Score: 132.84\n",
            "Episode 700\tAverage Score: 128.17\n",
            "Episode 800\tAverage Score: 200.00\n",
            "Episode 900\tAverage Score: 200.00\n",
            "Episode 1000\tAverage Score: 184.42\n",
            "Best 100 episode average:  200.0  reached at episode  302 . Model saved in folder best.\n",
            "\n",
            "Run # 2\n",
            "Episode 100\tAverage Score: 20.09\n",
            "Episode 200\tAverage Score: 161.58\n",
            "Episode 300\tAverage Score: 200.00\n",
            "Episode 400\tAverage Score: 200.00\n",
            "Episode 500\tAverage Score: 200.00\n",
            "Episode 600\tAverage Score: 198.92\n",
            "Episode 700\tAverage Score: 200.00\n",
            "Episode 800\tAverage Score: 191.83\n",
            "Episode 900\tAverage Score: 200.00\n",
            "Episode 1000\tAverage Score: 200.00\n",
            "Best 100 episode average:  200.0  reached at episode  291 . Model saved in folder best.\n",
            "\n",
            "Run # 3\n",
            "Episode 100\tAverage Score: 17.63\n",
            "Episode 200\tAverage Score: 135.88\n",
            "Episode 300\tAverage Score: 160.15\n",
            "Episode 400\tAverage Score: 171.60\n",
            "Episode 500\tAverage Score: 156.02\n",
            "Episode 600\tAverage Score: 178.01\n",
            "Episode 700\tAverage Score: 93.30\n",
            "Episode 800\tAverage Score: 200.00\n",
            "Episode 900\tAverage Score: 200.00\n",
            "Episode 1000\tAverage Score: 200.00\n",
            "Best 100 episode average:  200.0  reached at episode  762 . Model saved in folder best.\n",
            "\n",
            "Run # 4\n",
            "Episode 100\tAverage Score: 20.68\n",
            "Episode 200\tAverage Score: 183.98\n",
            "Episode 300\tAverage Score: 199.62\n",
            "Episode 400\tAverage Score: 195.67\n",
            "Episode 500\tAverage Score: 199.95\n",
            "Episode 600\tAverage Score: 198.77\n",
            "Episode 700\tAverage Score: 183.67\n",
            "Episode 800\tAverage Score: 189.69\n",
            "Episode 900\tAverage Score: 200.00\n",
            "Episode 1000\tAverage Score: 196.47\n",
            "Best 100 episode average:  200.0  reached at episode  503 . Model saved in folder best.\n",
            "\n",
            "Run # 5\n",
            "Episode 100\tAverage Score: 18.85\n",
            "Episode 200\tAverage Score: 150.59\n",
            "Episode 300\tAverage Score: 199.19\n",
            "Episode 400\tAverage Score: 199.97\n",
            "Episode 500\tAverage Score: 200.00\n",
            "Episode 600\tAverage Score: 200.00\n",
            "Episode 700\tAverage Score: 200.00\n",
            "Episode 800\tAverage Score: 194.81\n",
            "Episode 900\tAverage Score: 200.00\n",
            "Episode 1000\tAverage Score: 200.00\n",
            "Best 100 episode average:  200.0  reached at episode  312 . Model saved in folder best.\n",
            "\n",
            "Run # 6\n",
            "Episode 100\tAverage Score: 24.67\n",
            "Episode 200\tAverage Score: 189.51\n",
            "Episode 300\tAverage Score: 200.00\n",
            "Episode 400\tAverage Score: 200.00\n",
            "Episode 500\tAverage Score: 200.00\n",
            "Episode 600\tAverage Score: 194.92\n",
            "Episode 700\tAverage Score: 200.00\n",
            "Episode 800\tAverage Score: 197.61\n",
            "Episode 900\tAverage Score: 200.00\n",
            "Episode 1000\tAverage Score: 198.64\n",
            "Best 100 episode average:  200.0  reached at episode  278 . Model saved in folder best.\n",
            "\n",
            "Run # 7\n",
            "Episode 100\tAverage Score: 40.03\n",
            "Episode 200\tAverage Score: 195.61\n",
            "Episode 300\tAverage Score: 193.44\n",
            "Episode 400\tAverage Score: 199.81\n",
            "Episode 500\tAverage Score: 200.00\n",
            "Episode 600\tAverage Score: 200.00\n",
            "Episode 700\tAverage Score: 200.00\n",
            "Episode 800\tAverage Score: 197.97\n",
            "Episode 900\tAverage Score: 200.00\n",
            "Episode 1000\tAverage Score: 200.00\n",
            "Best 100 episode average:  200.0  reached at episode  415 . Model saved in folder best.\n",
            "\n",
            "Run # 8\n",
            "Episode 100\tAverage Score: 15.52\n",
            "Episode 200\tAverage Score: 135.02\n",
            "Episode 300\tAverage Score: 198.36\n",
            "Episode 400\tAverage Score: 146.70\n",
            "Episode 500\tAverage Score: 125.70\n",
            "Episode 600\tAverage Score: 69.60\n",
            "Episode 700\tAverage Score: 154.06\n",
            "Episode 800\tAverage Score: 200.00\n",
            "Episode 900\tAverage Score: 200.00\n",
            "Episode 1000\tAverage Score: 200.00\n",
            "Best 100 episode average:  200.0  reached at episode  347 . Model saved in folder best.\n",
            "\n",
            "Run # 9\n",
            "Episode 100\tAverage Score: 20.24\n",
            "Episode 200\tAverage Score: 135.34\n",
            "Episode 300\tAverage Score: 196.81\n",
            "Episode 400\tAverage Score: 200.00\n",
            "Episode 500\tAverage Score: 200.00\n",
            "Episode 600\tAverage Score: 200.00\n",
            "Episode 700\tAverage Score: 200.00\n",
            "Episode 800\tAverage Score: 197.55\n",
            "Episode 900\tAverage Score: 200.00\n",
            "Episode 1000\tAverage Score: 198.75\n",
            "Best 100 episode average:  200.0  reached at episode  345 . Model saved in folder best.\n",
            "\n"
          ]
        }
      ]
    },
    {
      "cell_type": "code",
      "metadata": {
        "colab": {
          "base_uri": "https://localhost:8080/",
          "height": 1000
        },
        "id": "xE_9tivgY7nW",
        "scrolled": true,
        "outputId": "6dbc44e7-c2b4-4124-b039-afb96e1dcebc"
      },
      "source": [
        "# Plot scores of individual runs\n",
        "for i in range(len(smoothed_scores_dqn_all)):\n",
        "    fig = plt.figure()\n",
        "    plt.plot(smoothed_scores_dqn_all[i])\n",
        "    plt.ylim(0, 250)\n",
        "    plt.grid(True)\n",
        "    plt.savefig(result_dir + '/training_dqn_{}.png'.format(i), dpi=1000)\n",
        "    plt.show()"
      ],
      "execution_count": null,
      "outputs": [
        {
          "data": {
            "image/png": "[encoded data removed]",
            "text/plain": [
              "<Figure size 432x288 with 1 Axes>"
            ]
          },
          "metadata": {},
          "output_type": "display_data"
        },
        {
          "data": {
            "image/png": "[encoded data removed]",
            "text/plain": [
              "<Figure size 432x288 with 1 Axes>"
            ]
          },
          "metadata": {},
          "output_type": "display_data"
        },
        {
          "data": {
            "image/png": "[encoded data removed]",
            "text/plain": [
              "<Figure size 432x288 with 1 Axes>"
            ]
          },
          "metadata": {},
          "output_type": "display_data"
        },
        {
          "data": {
            "image/png": "[encoded data removed]",
            "text/plain": [
              "<Figure size 432x288 with 1 Axes>"
            ]
          },
          "metadata": {},
          "output_type": "display_data"
        },
        {
          "data": {
            "image/png": "[encoded data removed]",
            "text/plain": [
              "<Figure size 432x288 with 1 Axes>"
            ]
          },
          "metadata": {},
          "output_type": "display_data"
        },
        {
          "data": {
            "image/png": "[encoded data removed]",
            "text/plain": [
              "<Figure size 432x288 with 1 Axes>"
            ]
          },
          "metadata": {},
          "output_type": "display_data"
        },
        {
          "data": {
            "image/png": "[encoded data removed]",
            "text/plain": [
              "<Figure size 432x288 with 1 Axes>"
            ]
          },
          "metadata": {},
          "output_type": "display_data"
        },
        {
          "data": {
            "image/png": "[encoded data removed]",
            "text/plain": [
              "<Figure size 432x288 with 1 Axes>"
            ]
          },
          "metadata": {},
          "output_type": "display_data"
        },
        {
          "data": {
            "image/png": "[encoded data removed]",
            "text/plain": [
              "<Figure size 432x288 with 1 Axes>"
            ]
          },
          "metadata": {},
          "output_type": "display_data"
        },
        {
          "data": {
            "image/png": "[encoded data removed]",
            "text/plain": [
              "<Figure size 432x288 with 1 Axes>"
            ]
          },
          "metadata": {},
          "output_type": "display_data"
        }
      ]
    },
    {
      "cell_type": "code",
      "metadata": {
        "id": "wy66b27uEb8d"
      },
      "source": [
        "best_runs = [0, 1, 2, 3, 4, 5, 6, 7, 8, 9]"
      ],
      "execution_count": null,
      "outputs": []
    },
    {
      "cell_type": "code",
      "metadata": {
        "colab": {
          "base_uri": "https://localhost:8080/",
          "height": 269
        },
        "id": "tXn_qeXDY7nY",
        "outputId": "a2607d29-38d5-4d81-fedb-c08b6764f28c"
      },
      "source": [
        "# Plot results (mean)\n",
        "best_smoothed_scores_dqn = [smoothed_scores_dqn_all[best_runs[0]],\n",
        "                            smoothed_scores_dqn_all[best_runs[1]],\n",
        "                            smoothed_scores_dqn_all[best_runs[2]],\n",
        "                            smoothed_scores_dqn_all[best_runs[3]],\n",
        "                            smoothed_scores_dqn_all[best_runs[4]],\n",
        "                            smoothed_scores_dqn_all[best_runs[5]],\n",
        "                            smoothed_scores_dqn_all[best_runs[6]],\n",
        "                            smoothed_scores_dqn_all[best_runs[7]],\n",
        "                            smoothed_scores_dqn_all[best_runs[8]],\n",
        "                            smoothed_scores_dqn_all[best_runs[9]]]\n",
        "mean_smoothed_scores_dqn = np.mean(best_smoothed_scores_dqn, axis=0)\n",
        "std_smoothed_scores = np.std(best_smoothed_scores_dqn, axis=0)\n",
        "\n",
        "avg_dqn_completion_after = np.mean([dqn_completion_after[best_runs[0]],\n",
        "                                dqn_completion_after[best_runs[1]],\n",
        "                                dqn_completion_after[best_runs[2]],\n",
        "                                dqn_completion_after[best_runs[3]],\n",
        "                                dqn_completion_after[best_runs[4]],\n",
        "                                dqn_completion_after[best_runs[5]],\n",
        "                                dqn_completion_after[best_runs[6]],\n",
        "                                dqn_completion_after[best_runs[7]],\n",
        "                                dqn_completion_after[best_runs[8]],\n",
        "                                dqn_completion_after[best_runs[9]]])\n",
        "\n",
        "fig = plt.figure()\n",
        "plt.plot(range(len(best_smoothed_scores_dqn[0])), mean_smoothed_scores_dqn)\n",
        "plt.fill_between(range(len(best_smoothed_scores_dqn[0])),\n",
        "                 np.nanpercentile(best_smoothed_scores_dqn, 2, axis=0),\n",
        "                 np.nanpercentile(best_smoothed_scores_dqn, 97, axis=0), alpha=0.25)\n",
        "plt.vlines(avg_dqn_completion_after, 0, 250, 'C0')\n",
        "#plt.fill_between(range(len(smoothed_scores_dqn_all[0])), mean_smoothed_scores-std_smoothed_scores,\n",
        "#                 mean_smoothed_scores+std_smoothed_scores, alpha=0.25)\n",
        "plt.ylim(0, 250)\n",
        "plt.grid(True)\n",
        "plt.savefig(result_dir + '/DQN_training.png', dpi=1000)\n",
        "plt.show()"
      ],
      "execution_count": null,
      "outputs": [
        {
          "data": {
            "image/png": "[encoded data removed]",
            "text/plain": [
              "<Figure size 432x288 with 1 Axes>"
            ]
          },
          "metadata": {},
          "output_type": "display_data"
        }
      ]
    },
    {
      "cell_type": "markdown",
      "metadata": {
        "id": "H1oA-1tRhCOu"
      },
      "source": [
        "# DSQN"
      ]
    },
    {
      "cell_type": "markdown",
      "metadata": {
        "id": "wEEV7qefjKKb"
      },
      "source": [
        "## DSQN Setup"
      ]
    },
    {
      "cell_type": "code",
      "metadata": {
        "colab": {
          "base_uri": "https://localhost:8080/"
        },
        "id": "bmdnlMAAge-i",
        "outputId": "39ba656d-4c55-4e03-97f7-adc165ddbd10"
      },
      "source": [
        "# Enables the python console on exeption\n",
        "%pdb on"
      ],
      "execution_count": null,
      "outputs": [
        {
          "output_type": "stream",
          "name": "stdout",
          "text": [
            "Automatic pdb calling has been turned ON\n"
          ]
        }
      ]
    },
    {
      "cell_type": "code",
      "metadata": {
        "colab": {
          "base_uri": "https://localhost:8080/"
        },
        "id": "BIMVWMGnejfZ",
        "outputId": "fb5def0e-aa61-4547-d3c7-8c90937dace2"
      },
      "source": [
        "#@title Reload changed model file { form-width: \"20%\", display-mode: \"form\" }\n",
        "\n",
        "!cp drive/My\\ Drive/Uni/MasterArbeit/dsqn_examples/DQN-Cartpole/model.py .\n",
        "!cp drive/My\\ Drive/Uni/MasterArbeit/dsqn_examples/DQN-Cartpole/model_twoneurons.py .\n",
        "!cp drive/My\\ Drive/Uni/MasterArbeit/dsqn_examples/DQN-Cartpole/model_poisson.py .\n",
        "\n",
        "import model_twoneurons\n",
        "importlib.reload(model_twoneurons)\n",
        "\n",
        "\n",
        "if experiment_type[type_nr] == \"twoneuron\":\n",
        "    import model_twoneurons\n",
        "    importlib.reload(model_twoneurons)\n",
        "    from model_twoneurons import QNetwork, DSNN\n",
        "elif experiment_type[type_nr] == \"poisson\":\n",
        "    import model_poisson\n",
        "    importlib.reload(model_poisson)\n",
        "    from model_poisson import QNetwork, DSNN\n",
        "else :\n",
        "    import model\n",
        "    importlib.reload(model)\n",
        "    from model import QNetwork, DSNN\n",
        "print(\"Reloaded {} model\".format(experiment_type[type_nr]))"
      ],
      "execution_count": 15,
      "outputs": [
        {
          "output_type": "stream",
          "name": "stdout",
          "text": [
            "Reloaded default model\n"
          ]
        }
      ]
    },
    {
      "cell_type": "markdown",
      "metadata": {
        "id": "QNa2rWURY7nZ"
      },
      "source": [
        "## DSQN Training"
      ]
    },
    {
      "cell_type": "markdown",
      "metadata": {
        "id": "uC1O1i_TY7na"
      },
      "source": [
        "DSQNs with two-neurons-input encoding"
      ]
    },
    {
      "cell_type": "code",
      "metadata": {
        "colab": {
          "base_uri": "https://localhost:8080/"
        },
        "id": "kCipNf-dY7na",
        "scrolled": true,
        "outputId": "72270f94-b9ff-480f-bcac-da9dabf64605"
      },
      "source": [
        "saveHyperparameters()\n",
        "\n",
        "smoothed_scores_dsqn_all = []\n",
        "dsqn_completion_after = []\n",
        "simulation_time = 10\n",
        "\n",
        "for i_run in range(n_runs):\n",
        "    print(\"Run # {}\".format(i_run) + ' at '+getDateTime())\n",
        "    seed = seeds[i_run]\n",
        "\n",
        "    torch.manual_seed(seed)\n",
        "    random.seed(seed)\n",
        "\n",
        "    policy_net = DSNN(architecture, seed, alpha, beta, batch_size, threshold, simulation_time)\n",
        "    target_net = DSNN(architecture, seed, alpha, beta, batch_size, threshold, simulation_time)\n",
        "    target_net.load_state_dict(policy_net.state_dict())\n",
        "    optimizer = optim.Adam(policy_net.parameters(), lr=learning_rate)\n",
        "\n",
        "    agent = Agent(env_name, policy_net, target_net, architecture, batch_size,\n",
        "                  replay_memory_size, discount_factor, eps_start, eps_end, eps_decay,\n",
        "                  update_every, target_update_frequency, optimizer, learning_rate,\n",
        "                  num_episodes, max_steps, i_run, result_dir, seed, tau, SQN=True, quantization=False)\n",
        "\n",
        "    smoothed_scores, scores, best_average_after = agent.train_agent()\n",
        "    \n",
        "\n",
        "    np.save(result_dir + '/scores_{}'.format(i_run), scores)\n",
        "    np.save(result_dir + '/smoothed_scores_DSQN_{}'.format(i_run), smoothed_scores)\n",
        "    plot_score(smoothed_scores,i_run)\n",
        "\n",
        "    # save smoothed scores in list to plot later\n",
        "    smoothed_scores_dsqn_all.append(smoothed_scores)\n",
        "    dsqn_completion_after.append(best_average_after)\n",
        "    print(\"\")\n",
        "print(\"Finished at \"+ getDateTime())"
      ],
      "execution_count": null,
      "outputs": [
        {
          "output_type": "stream",
          "name": "stdout",
          "text": [
            "Run # 0 at 03/11/2021 14:51:04\n"
          ]
        }
      ]
    },
    {
      "cell_type": "markdown",
      "metadata": {
        "id": "BzJSRspXhkOz"
      },
      "source": [
        "## DSQN Plots"
      ]
    },
    {
      "cell_type": "code",
      "metadata": {
        "id": "i4TQubGBbTzK"
      },
      "source": [
        "result_dir = \"/content/drive/My Drive/Uni/MasterArbeit/dsqn_examples/results/result_20_default_2021113\""
      ],
      "execution_count": 12,
      "outputs": []
    },
    {
      "cell_type": "code",
      "metadata": {
        "id": "DktjML1ahRhD"
      },
      "source": [
        "smoothed_scores_dsqn_all = loadScores(result_dir,\"smoothed_scores_DSQN\",5)"
      ],
      "execution_count": 14,
      "outputs": []
    },
    {
      "cell_type": "code",
      "metadata": {
        "colab": {
          "base_uri": "https://localhost:8080/",
          "height": 1000
        },
        "id": "s-Zd_Oc0gn-f",
        "outputId": "a2702107-93b6-4ea4-804e-6a45f18eece2"
      },
      "source": [
        "# Plot scores of individual runs\n",
        "for i in range(len(smoothed_scores_dsqn_all)):\n",
        "    fig = plt.figure()\n",
        "    plt.plot(smoothed_scores_dsqn_all[i])\n",
        "    plt.ylim(0, 250)\n",
        "    plt.grid(True)\n",
        "    #plt.savefig(result_dir + '/training_dsqn_{}.png'.format(i), dpi=1000)\n",
        "    plt.show()"
      ],
      "execution_count": 17,
      "outputs": [
        {
          "output_type": "display_data",
          "data": {
            "image/png": "[encoded data removed]",
            "text/plain": [
              "<Figure size 432x288 with 1 Axes>"
            ]
          },
          "metadata": {
            "needs_background": "light"
          }
        },
        {
          "output_type": "display_data",
          "data": {
            "image/png": "[encoded data removed]",
            "text/plain": [
              "<Figure size 432x288 with 1 Axes>"
            ]
          },
          "metadata": {
            "needs_background": "light"
          }
        },
        {
          "output_type": "display_data",
          "data": {
            "image/png": "[encoded data removed]",
            "text/plain": [
              "<Figure size 432x288 with 1 Axes>"
            ]
          },
          "metadata": {
            "needs_background": "light"
          }
        },
        {
          "output_type": "display_data",
          "data": {
            "image/png": "[encoded data removed]",
            "text/plain": [
              "<Figure size 432x288 with 1 Axes>"
            ]
          },
          "metadata": {
            "needs_background": "light"
          }
        },
        {
          "output_type": "display_data",
          "data": {
            "image/png": "[encoded data removed]",
            "text/plain": [
              "<Figure size 432x288 with 1 Axes>"
            ]
          },
          "metadata": {
            "needs_background": "light"
          }
        }
      ]
    },
    {
      "cell_type": "code",
      "metadata": {
        "id": "9WwrzTCoh0bM"
      },
      "source": [
        "best_runs = [0, 1, 2, 3, 4, 5, 6, 7, 8, 9]"
      ],
      "execution_count": 15,
      "outputs": []
    },
    {
      "cell_type": "code",
      "metadata": {
        "colab": {
          "base_uri": "https://localhost:8080/",
          "height": 281
        },
        "id": "rngOZcijh4bM",
        "outputId": "92886669-664d-459d-ad1b-c96260e7aa45"
      },
      "source": [
        "best_smoothed_scores_dsqn = [[]]*len(smoothed_scores_dsqn_all)\n",
        "for i in range(len(smoothed_scores_dsqn_all)):\n",
        "    best_smoothed_scores_dsqn[i] = smoothed_scores_dsqn_all[best_runs[i]]\n",
        "\n",
        "mean_smoothed_scores_dsqn = np.mean(best_smoothed_scores_dsqn, axis=0)\n",
        "\n",
        "\n",
        "fig = plt.figure()\n",
        "plt.plot(range(len(best_smoothed_scores_dsqn[0])), mean_smoothed_scores_dsqn)\n",
        "plt.fill_between(range(len(best_smoothed_scores_dsqn[0])),\n",
        "                 np.nanpercentile(best_smoothed_scores_dsqn, 2, axis=0),\n",
        "                 np.nanpercentile(best_smoothed_scores_dsqn, 97, axis=0), alpha=0.25)\n",
        "\n",
        "try: # in case the notebook expires, the dsqn_completions cannot be reloaed\n",
        "    if(dsqn_completion_after):\n",
        "      avg_dsqn_completion_after = [[]]*len(dsqn_completion_after)\n",
        "      for i in range(len(dsqn_completion_after)):\n",
        "          avg_dsqn_completion_after[i] = dsqn_completion_after[best_runs[i]]\n",
        "      avg_dsqn_completion_after = np.mean(avg_dsqn_completion_after)\n",
        "      plt.vlines(avg_dsqn_completion_after, 0, 250, 'C0')\n",
        "except NameError:\n",
        "    dsqn_completion_after = None\n",
        "\n",
        "\n",
        "plt.ylim(0, 250)\n",
        "plt.grid(True)\n",
        "plt.savefig(result_dir + '/DSQN_training.png', dpi=1000)\n",
        "plt.title('CartPole-v0 DSQN')\n",
        "plt.show()"
      ],
      "execution_count": 16,
      "outputs": [
        {
          "output_type": "display_data",
          "data": {
            "image/png": "[encoded data removed]",
            "text/plain": [
              "<Figure size 432x288 with 1 Axes>"
            ]
          },
          "metadata": {
            "needs_background": "light"
          }
        }
      ]
    },
    {
      "cell_type": "markdown",
      "metadata": {
        "id": "9m4PEscghHug"
      },
      "source": [
        "# Quantized DSQN"
      ]
    },
    {
      "cell_type": "markdown",
      "metadata": {
        "id": "uHRj7pVIY7nb"
      },
      "source": [
        "## Quantized DSQN Training"
      ]
    },
    {
      "cell_type": "code",
      "metadata": {
        "colab": {
          "base_uri": "https://localhost:8080/",
          "height": 293
        },
        "id": "dMN0hu8wY7nb",
        "scrolled": false,
        "outputId": "04a51dd1-c142-47f4-b740-a5821d874ed3"
      },
      "source": [
        "smoothed_scores_dsqn_quantized_all = []\n",
        "dsqn_quantized_completion_after = []\n",
        "simulation_time = 8\n",
        "\n",
        "for i_run in range(n_runs):\n",
        "    print(\"Run # {}\".format(i_run))\n",
        "    seed = seeds[i_run]\n",
        "\n",
        "    torch.manual_seed(seed)\n",
        "    random.seed(seed)\n",
        "\n",
        "    policy_net = DSQN(architecture, seed, alpha, beta, weight_scale, batch_size, threshold, simulation_time)\n",
        "    target_net = DSQN(architecture, seed, alpha, beta, weight_scale, batch_size, threshold, simulation_time)\n",
        "    target_net.load_state_dict(policy_net.state_dict())\n",
        "    optimizer = optim.Adam(policy_net.parameters(), lr=learning_rate)\n",
        "\n",
        "    agent = Agent(env_name, policy_net, target_net, architecture, batch_size,\n",
        "                  replay_memory_size, discount_factor, eps_start, eps_end, eps_decay,\n",
        "                  update_every, target_update_frequency, optimizer, learning_rate,\n",
        "                  num_episodes, max_steps, i_run, result_dir, seed, tau, SQN=True, two_neurons=False,\n",
        "                  quantization=True)\n",
        "\n",
        "    smoothed_scores, scores, best_average_after = agent.train_agent()\n",
        "\n",
        "    np.save(result_dir + '/scores_{}'.format(i_run), scores)\n",
        "    np.save(result_dir + '/smoothed_scores_DSQN_Loihi_{}'.format(i_run), smoothed_scores)\n",
        "\n",
        "    # save smoothed scores in list to plot later\n",
        "    smoothed_scores_dsqn_quantized_all.append(smoothed_scores)\n",
        "    dsqn_quantized_completion_after.append(best_average_after)\n",
        "    print(\"\")"
      ],
      "execution_count": null,
      "outputs": [
        {
          "name": "stdout",
          "output_type": "stream",
          "text": [
            "Run # 0\n"
          ]
        },
        {
          "ename": "NameError",
          "evalue": "ignored",
          "output_type": "error",
          "traceback": [
            "\u001b[0;31m---------------------------------------------------------------------------\u001b[0m",
            "\u001b[0;31mNameError\u001b[0m                                 Traceback (most recent call last)",
            "\u001b[0;32m<ipython-input-65-7cdc0580bb99>\u001b[0m in \u001b[0;36m<module>\u001b[0;34m()\u001b[0m\n\u001b[1;32m     10\u001b[0m     \u001b[0mrandom\u001b[0m\u001b[0;34m.\u001b[0m\u001b[0mseed\u001b[0m\u001b[0;34m(\u001b[0m\u001b[0mseed\u001b[0m\u001b[0;34m)\u001b[0m\u001b[0;34m\u001b[0m\u001b[0;34m\u001b[0m\u001b[0m\n\u001b[1;32m     11\u001b[0m \u001b[0;34m\u001b[0m\u001b[0m\n\u001b[0;32m---> 12\u001b[0;31m     \u001b[0mpolicy_net\u001b[0m \u001b[0;34m=\u001b[0m \u001b[0mDSQN\u001b[0m\u001b[0;34m(\u001b[0m\u001b[0marchitecture\u001b[0m\u001b[0;34m,\u001b[0m \u001b[0mseed\u001b[0m\u001b[0;34m,\u001b[0m \u001b[0malpha\u001b[0m\u001b[0;34m,\u001b[0m \u001b[0mbeta\u001b[0m\u001b[0;34m,\u001b[0m \u001b[0mweight_scale\u001b[0m\u001b[0;34m,\u001b[0m \u001b[0mbatch_size\u001b[0m\u001b[0;34m,\u001b[0m \u001b[0mthreshold\u001b[0m\u001b[0;34m,\u001b[0m \u001b[0msimulation_time\u001b[0m\u001b[0;34m)\u001b[0m\u001b[0;34m\u001b[0m\u001b[0;34m\u001b[0m\u001b[0m\n\u001b[0m\u001b[1;32m     13\u001b[0m     \u001b[0mtarget_net\u001b[0m \u001b[0;34m=\u001b[0m \u001b[0mDSQN\u001b[0m\u001b[0;34m(\u001b[0m\u001b[0marchitecture\u001b[0m\u001b[0;34m,\u001b[0m \u001b[0mseed\u001b[0m\u001b[0;34m,\u001b[0m \u001b[0malpha\u001b[0m\u001b[0;34m,\u001b[0m \u001b[0mbeta\u001b[0m\u001b[0;34m,\u001b[0m \u001b[0mweight_scale\u001b[0m\u001b[0;34m,\u001b[0m \u001b[0mbatch_size\u001b[0m\u001b[0;34m,\u001b[0m \u001b[0mthreshold\u001b[0m\u001b[0;34m,\u001b[0m \u001b[0msimulation_time\u001b[0m\u001b[0;34m)\u001b[0m\u001b[0;34m\u001b[0m\u001b[0;34m\u001b[0m\u001b[0m\n\u001b[1;32m     14\u001b[0m     \u001b[0mtarget_net\u001b[0m\u001b[0;34m.\u001b[0m\u001b[0mload_state_dict\u001b[0m\u001b[0;34m(\u001b[0m\u001b[0mpolicy_net\u001b[0m\u001b[0;34m.\u001b[0m\u001b[0mstate_dict\u001b[0m\u001b[0;34m(\u001b[0m\u001b[0;34m)\u001b[0m\u001b[0;34m)\u001b[0m\u001b[0;34m\u001b[0m\u001b[0;34m\u001b[0m\u001b[0m\n",
            "\u001b[0;31mNameError\u001b[0m: name 'DSQN' is not defined"
          ]
        }
      ]
    },
    {
      "cell_type": "code",
      "metadata": {
        "id": "_MOaZnaUY7nc"
      },
      "source": [
        "smoothed_scores_dsqn_quantized_all = smoothed_scores_dsqn_all\n",
        "dsqn_quantized_completion_after = dsqn_completion_after"
      ],
      "execution_count": null,
      "outputs": []
    },
    {
      "cell_type": "code",
      "metadata": {
        "id": "OYrcBwfjY7nc"
      },
      "source": [
        "policy_net = DSQN(architecture, seed, alpha, beta, weight_scale, batch_size, threshold, simulation_time, two_neurons=False)"
      ],
      "execution_count": null,
      "outputs": []
    },
    {
      "cell_type": "code",
      "metadata": {
        "id": "odWNKU81Y7nd"
      },
      "source": [
        "dsqn_completion_after"
      ],
      "execution_count": null,
      "outputs": []
    },
    {
      "cell_type": "code",
      "metadata": {
        "id": "HSg10m_YY7nd",
        "scrolled": true
      },
      "source": [
        "policy_net.weights = weights"
      ],
      "execution_count": null,
      "outputs": []
    },
    {
      "cell_type": "code",
      "metadata": {
        "id": "_IIPFbHCY7nd"
      },
      "source": [
        "seed = seeds[0]\n",
        "policy_net = DSQN(architecture, seed, alpha, beta, weight_scale, batch_size, threshold, simulation_time, two_neurons=False)\n",
        "target_net = DSQN(architecture, seed, alpha, beta, weight_scale, batch_size, threshold, simulation_time, two_neurons=False)\n",
        "optimizer = optim.Adam(policy_net.parameters(), lr=learning_rate)\n",
        "\n",
        "agent = Agent(env_name, policy_net, target_net, architecture, batch_size,\n",
        "                  replay_memory_size, discount_factor, eps_start, eps_end, eps_decay,\n",
        "                  update_every, target_update_frequency, optimizer, learning_rate,\n",
        "                  num_episodes, max_steps, 0, result_dir, seed, tau, SQN=True, two_neurons=False)"
      ],
      "execution_count": null,
      "outputs": []
    },
    {
      "cell_type": "code",
      "metadata": {
        "id": "3RV4lI5pY7ne"
      },
      "source": [
        "weights = policy_net.weights"
      ],
      "execution_count": null,
      "outputs": []
    },
    {
      "cell_type": "code",
      "metadata": {
        "id": "BttjUxoLY7ne",
        "scrolled": true
      },
      "source": [
        "weights"
      ],
      "execution_count": null,
      "outputs": []
    },
    {
      "cell_type": "code",
      "metadata": {
        "id": "Mc6WMFzVY7ne"
      },
      "source": [
        "q_weights = agent.quantize_weights(weights)"
      ],
      "execution_count": null,
      "outputs": []
    },
    {
      "cell_type": "code",
      "metadata": {
        "id": "0mJ3HwqwY7ne",
        "scrolled": true
      },
      "source": [
        "q_weights"
      ],
      "execution_count": null,
      "outputs": []
    },
    {
      "cell_type": "code",
      "metadata": {
        "id": "UgFYgZNkY7nf",
        "scrolled": true
      },
      "source": [
        "quant_weights = [q_w.tensor.float() for q_w in q_weights]"
      ],
      "execution_count": null,
      "outputs": []
    },
    {
      "cell_type": "code",
      "metadata": {
        "id": "tZhhNwDTY7nf",
        "scrolled": true
      },
      "source": [
        "quant_weights[0].requires_grad = True"
      ],
      "execution_count": null,
      "outputs": []
    },
    {
      "cell_type": "code",
      "metadata": {
        "id": "W1OPXDndY7nf",
        "scrolled": true
      },
      "source": [
        "quant_weights"
      ],
      "execution_count": null,
      "outputs": []
    },
    {
      "cell_type": "code",
      "metadata": {
        "id": "-DsQm9c5Y7nf"
      },
      "source": [
        "step = (1.8 + 1.8)/255"
      ],
      "execution_count": null,
      "outputs": []
    },
    {
      "cell_type": "code",
      "metadata": {
        "id": "Vu8HOZYuY7nf",
        "scrolled": false
      },
      "source": [
        "w = np.concatenate((weights[0].detach().numpy()[0], weights[0].detach().numpy()[1], weights[0].detach().numpy()[2], weights[0].detach().numpy()[3]))\n",
        "bins = np.arange(-1.8, 1.8, step)\n",
        "plt.hist(w, bins)\n",
        "plt.title('FP32 Weights')\n",
        "plt.savefig('weights_fp32.png', dpi=1000)"
      ],
      "execution_count": null,
      "outputs": []
    },
    {
      "cell_type": "code",
      "metadata": {
        "id": "KIcdUQukY7ng"
      },
      "source": [
        "w = np.concatenate((quant_weights[0].detach().numpy()[0], quant_weights[0].detach().numpy()[1], quant_weights[0].detach().numpy()[2], quant_weights[0].detach().numpy()[3]), axis=0)\n",
        "bins = range(-128, 127)\n",
        "plt.hist(w, bins)\n",
        "plt.title('Quantized Weights')\n",
        "plt.savefig('weights_quantized.png', dpi=1000)"
      ],
      "execution_count": null,
      "outputs": []
    },
    {
      "cell_type": "code",
      "metadata": {
        "id": "Z2cqLs-YY7ng"
      },
      "source": [
        "policy_net.weights = quant_weights"
      ],
      "execution_count": null,
      "outputs": []
    },
    {
      "cell_type": "code",
      "metadata": {
        "id": "cAg6y6qaY7ng"
      },
      "source": [
        "env = gym.make(env_name)"
      ],
      "execution_count": null,
      "outputs": []
    },
    {
      "cell_type": "code",
      "metadata": {
        "id": "nQxukft8Y7ng"
      },
      "source": [
        "obs = env.reset()"
      ],
      "execution_count": null,
      "outputs": []
    },
    {
      "cell_type": "markdown",
      "metadata": {
        "id": "IvqltimhY7nh"
      },
      "source": [
        "## Plot Quantized DSQN Training"
      ]
    },
    {
      "cell_type": "code",
      "metadata": {
        "id": "dreBiOACY7nh"
      },
      "source": [
        "smoothed_scores_dsqn_quantized_0 = np.load('result_23_2021416/smoothed_scores_DSQN_0.npy')\n",
        "smoothed_scores_dsqn_quantized_1 = np.load('result_23_2021416/smoothed_scores_DSQN_1.npy')\n",
        "smoothed_scores_dsqn_quantized_2 = np.load('result_23_2021416/smoothed_scores_DSQN_2.npy')\n",
        "smoothed_scores_dsqn_quantized_3 = np.load('result_23_2021416/smoothed_scores_DSQN_3.npy')\n",
        "smoothed_scores_dsqn_quantized_4 = np.load('result_23_2021416/smoothed_scores_DSQN_4.npy')\n",
        "smoothed_scores_dsqn_quantized_5 = np.load('result_23_2021416/smoothed_scores_DSQN_5.npy')\n",
        "smoothed_scores_dsqn_quantized_6 = np.load('result_23_2021416/smoothed_scores_DSQN_6.npy')\n",
        "smoothed_scores_dsqn_quantized_7 = np.load('result_23_2021416/smoothed_scores_DSQN_7.npy')\n",
        "smoothed_scores_dsqn_quantized_8 = np.load('result_23_2021416/smoothed_scores_DSQN_8.npy')\n",
        "smoothed_scores_dsqn_quantized_9 = np.load('result_23_2021416/smoothed_scores_DSQN_9.npy')\n",
        "smoothed_scores_dsqn_quantized_all = [smoothed_scores_dsqn_quantized_0, smoothed_scores_dsqn_quantized_1, smoothed_scores_dsqn_quantized_2, smoothed_scores_dsqn_quantized_3, smoothed_scores_dsqn_quantized_4, smoothed_scores_dsqn_quantized_5, smoothed_scores_dsqn_quantized_6, smoothed_scores_dsqn_quantized_7, smoothed_scores_dsqn_quantized_8, smoothed_scores_dsqn_quantized_9]"
      ],
      "execution_count": null,
      "outputs": []
    },
    {
      "cell_type": "code",
      "metadata": {
        "id": "-gcAbM1IY7ni"
      },
      "source": [
        "best_smoothed_scores_dsqn_quantized = [smoothed_scores_dsqn_quantized_all[best_runs[0]],\n",
        "                             smoothed_scores_dsqn_quantized_all[best_runs[1]],\n",
        "                             smoothed_scores_dsqn_quantized_all[best_runs[2]],\n",
        "                             smoothed_scores_dsqn_quantized_all[best_runs[3]],\n",
        "                             smoothed_scores_dsqn_quantized_all[best_runs[4]],\n",
        "                             smoothed_scores_dsqn_quantized_all[best_runs[5]],\n",
        "                             smoothed_scores_dsqn_quantized_all[best_runs[6]],\n",
        "                             smoothed_scores_dsqn_quantized_all[best_runs[7]],\n",
        "                             smoothed_scores_dsqn_quantized_all[best_runs[8]],\n",
        "                             smoothed_scores_dsqn_quantized_all[best_runs[9]]]\n",
        "mean_smoothed_scores_dsqn_quantized = np.mean(best_smoothed_scores_dsqn_quantized, axis=0)\n",
        "\n",
        "avg_dsqn_quantized_completion_after = np.mean([dsqn_quantized_completion_after[best_runs[0]],\n",
        "                                dsqn_quantized_completion_after[best_runs[1]],\n",
        "                                dsqn_quantized_completion_after[best_runs[2]],\n",
        "                                dsqn_quantized_completion_after[best_runs[3]],\n",
        "                                dsqn_quantized_completion_after[best_runs[4]],\n",
        "                                dsqn_quantized_completion_after[best_runs[5]],\n",
        "                                dsqn_quantized_completion_after[best_runs[6]],\n",
        "                                dsqn_quantized_completion_after[best_runs[7]],\n",
        "                                dsqn_quantized_completion_after[best_runs[8]],\n",
        "                                dsqn_quantized_completion_after[best_runs[9]]])\n",
        "\n",
        "fig = plt.figure()\n",
        "plt.plot(range(len(best_smoothed_scores_dsqn_quantized[0])), mean_smoothed_scores_dsqn_quantized)\n",
        "plt.fill_between(range(len(best_smoothed_scores_dsqn_quantized[0])),\n",
        "                 np.nanpercentile(best_smoothed_scores_dsqn_quantized, 2, axis=0),\n",
        "                 np.nanpercentile(best_smoothed_scores_dsqn_quantized, 97, axis=0), alpha=0.25)\n",
        "\n",
        "plt.vlines(avg_dsqn_quantized_completion_after, 0, 250, 'C0')\n",
        "\n",
        "\n",
        "plt.ylim(0, 250)\n",
        "plt.grid(True)\n",
        "plt.savefig(result_dir + '/DSQN_training.png', dpi=1000)\n",
        "plt.title('CartPole-v0 DSQN Quantized')\n",
        "plt.show()"
      ],
      "execution_count": null,
      "outputs": []
    },
    {
      "cell_type": "code",
      "metadata": {
        "colab": {
          "base_uri": "https://localhost:8080/",
          "height": 295
        },
        "id": "XWpl29SIY7ni",
        "scrolled": false,
        "outputId": "b1f59377-30f4-41f4-e141-7853fdb62be1"
      },
      "source": [
        "# Plot smoothed DQN vs. DSQN Training\n",
        "#mean_smoothed_scores_dqn = np.mean(smoothed_scores_dqn_all, axis=0)\n",
        "#mean_smoothed_scores_dsqn = np.mean(smoothed_scores_dsqn_all, axis=0)\n",
        "\n",
        "fig = plt.figure()\n",
        "\n",
        "dqn = plt.plot(range(len(best_smoothed_scores_dqn[0])), mean_smoothed_scores_dqn, color='C0', label='DQN')\n",
        "plt.fill_between(range(len(best_smoothed_scores_dqn[0])),\n",
        "                 np.nanpercentile(best_smoothed_scores_dqn, 2, axis=0),\n",
        "                 np.nanpercentile(best_smoothed_scores_dqn, 97, axis=0), alpha=0.25)\n",
        "plt.vlines(avg_dqn_completion_after, 0, 250, 'C0')\n",
        "\n",
        "dsqn = plt.plot(range(len(best_smoothed_scores_dsqn[0])), mean_smoothed_scores_dsqn, color='C1', label='DSQN')\n",
        "plt.fill_between(range(len(best_smoothed_scores_dsqn[0])),\n",
        "                 np.nanpercentile(best_smoothed_scores_dsqn, 2, axis=0),\n",
        "                 np.nanpercentile(best_smoothed_scores_dsqn, 97, axis=0), alpha=0.25)\n",
        "plt.vlines(avg_dsqn_completion_after, 0, 250, 'C1')\n",
        "\n",
        "#dsqn_quantized = plt.plot(range(len(best_smoothed_scores_dsqn_quantized[0])), mean_smoothed_scores_dsqn_quantized, color='C2', label='Quantized DSQN')\n",
        "#plt.fill_between(range(len(best_smoothed_scores_dsqn_quantized[0])),\n",
        "#                 np.nanpercentile(best_smoothed_scores_dsqn_quantized, 2, axis=0),\n",
        "#                 np.nanpercentile(best_smoothed_scores_dsqn_quantized, 97, axis=0), alpha=0.25)\n",
        "#plt.vlines(avg_dsqn_quantized_completion_after, 0, 250, 'C2')\n",
        "\n",
        "\n",
        "plt.grid(True)\n",
        "plt.ylim(0, 250)\n",
        "plt.legend(loc='lower right')\n",
        "plt.xlabel('episode')\n",
        "plt.ylabel('sum of rewards')\n",
        "plt.title(env_name)\n",
        "plt.savefig(result_dir + '/DQN_vs_DSQN_training.png', dpi=1000)\n",
        "plt.show()"
      ],
      "execution_count": null,
      "outputs": [
        {
          "data": {
            "image/png": "[encoded data removed]",
            "text/plain": [
              "<Figure size 432x288 with 1 Axes>"
            ]
          },
          "metadata": {},
          "output_type": "display_data"
        }
      ]
    },
    {
      "cell_type": "markdown",
      "metadata": {
        "id": "fT8o7oXAY7ni"
      },
      "source": [
        "## Evaluate trained DQN and DSQN models"
      ]
    },
    {
      "cell_type": "code",
      "metadata": {
        "id": "FIl7YkpGY7nj"
      },
      "source": [
        "gym_evaluation_seeds = [random.getrandbits(32) for _ in range(n_evaluations)]"
      ],
      "execution_count": null,
      "outputs": []
    },
    {
      "cell_type": "code",
      "metadata": {
        "id": "0jeP7lf0jswp"
      },
      "source": [
        "import importlib\n"
      ],
      "execution_count": null,
      "outputs": []
    },
    {
      "cell_type": "code",
      "metadata": {
        "id": "U0HmmggPpH-g"
      },
      "source": [
        "import agent"
      ],
      "execution_count": null,
      "outputs": []
    },
    {
      "cell_type": "code",
      "metadata": {
        "colab": {
          "base_uri": "https://localhost:8080/"
        },
        "id": "hbtB2mhGoMXp",
        "outputId": "d22124be-80ca-4051-f6e6-5f2e40caaed6"
      },
      "source": [
        "importlib.reload(agent)"
      ],
      "execution_count": null,
      "outputs": [
        {
          "data": {
            "text/plain": [
              "<module 'agent' from '/content/agent.py'>"
            ]
          },
          "execution_count": 168,
          "metadata": {},
          "output_type": "execute_result"
        }
      ]
    },
    {
      "cell_type": "code",
      "metadata": {
        "id": "tDY7NpNdsEHd"
      },
      "source": [
        "from agent import Agent, ReplayBuffer"
      ],
      "execution_count": null,
      "outputs": []
    },
    {
      "cell_type": "code",
      "metadata": {
        "id": "UFV8nGxZjZF6"
      },
      "source": [
        "test_agent = Agent(env_name, policy_net, target_net, architecture, batch_size,\n",
        "                  replay_memory_size, discount_factor, eps_start, eps_end, eps_decay,\n",
        "                  update_every, target_update_frequency, optimizer, learning_rate,\n",
        "                  num_episodes, max_steps, i_run, result_dir, seed, tau, SQN=True, quantization=False)"
      ],
      "execution_count": null,
      "outputs": []
    },
    {
      "cell_type": "code",
      "metadata": {
        "colab": {
          "base_uri": "https://localhost:8080/"
        },
        "id": "c45dMhVWY7nj",
        "scrolled": false,
        "outputId": "3ec6b4e7-5228-46ba-8c2c-b502159ace6c"
      },
      "source": [
        "# Test best trained DQN on the same environment for 200 timesteps\n",
        "evaluation_dqn_200 = []\n",
        "for i in best_runs:\n",
        "    print(\"Run # {}\".format(i))\n",
        "    dqn = QNetwork(architecture, 1).to(device)\n",
        "    dqn.load_state_dict(torch.load(result_dir + '/checkpoint_DQN_{}.pt'.format(i)))\n",
        "    rewards = test_agent.evaluate_agent(dqn, env, 100, 200, gym_evaluation_seeds, quantization=False)\n",
        "    evaluation_dqn_200.extend(rewards)\n",
        "    print(\"Mean Rewards: {}\".format(np.mean(rewards)))\n",
        "    print(\"Deviation: {}\".format(np.std(rewards)))\n",
        "    print(\"-----------------\")\n",
        "np.save(result_dir + '/evaluation_dqn_200', evaluation_dqn_200)\n",
        "print(\"Total Mean Reward: {}\".format(np.mean(evaluation_dqn_200)))\n",
        "print(\"Total Deviation: {}\".format(np.std(evaluation_dqn_200)))"
      ],
      "execution_count": null,
      "outputs": [
        {
          "name": "stdout",
          "output_type": "stream",
          "text": [
            "Run # 0\n",
            "Mean Rewards: 200.0\n",
            "Deviation: 0.0\n",
            "-----------------\n",
            "Run # 1\n",
            "Mean Rewards: 199.17\n",
            "Deviation: 3.638832230262891\n",
            "-----------------\n",
            "Run # 2\n",
            "Mean Rewards: 200.0\n",
            "Deviation: 0.0\n",
            "-----------------\n",
            "Run # 3\n",
            "Mean Rewards: 200.0\n",
            "Deviation: 0.0\n",
            "-----------------\n",
            "Run # 4\n",
            "Mean Rewards: 200.0\n",
            "Deviation: 0.0\n",
            "-----------------\n",
            "Run # 5\n",
            "Mean Rewards: 200.0\n",
            "Deviation: 0.0\n",
            "-----------------\n",
            "Run # 6\n",
            "Mean Rewards: 200.0\n",
            "Deviation: 0.0\n",
            "-----------------\n",
            "Run # 7\n",
            "Mean Rewards: 200.0\n",
            "Deviation: 0.0\n",
            "-----------------\n",
            "Run # 8\n",
            "Mean Rewards: 200.0\n",
            "Deviation: 0.0\n",
            "-----------------\n",
            "Run # 9\n",
            "Mean Rewards: 199.89\n",
            "Deviation: 0.7196526940128829\n",
            "-----------------\n",
            "Total Mean Reward: 199.906\n",
            "Total Deviation: 1.1988177509529963\n"
          ]
        }
      ]
    },
    {
      "cell_type": "code",
      "metadata": {
        "colab": {
          "base_uri": "https://localhost:8080/"
        },
        "id": "43_9BW4rY7nk",
        "outputId": "7ba67ecc-34cb-4d66-869a-7f528fee1711"
      },
      "source": [
        "# Test best trained DQN on the same environment for 500 timesteps\n",
        "evaluation_dqn_500 = []\n",
        "for i in best_runs:\n",
        "    print(\"Run # {}\".format(i))\n",
        "    dqn = QNetwork(architecture, 1).to(device)\n",
        "    dqn.load_state_dict(torch.load(result_dir + '/checkpoint_DQN_{}.pt'.format(i)))\n",
        "    rewards = test_agent.evaluate_agent(dqn, env, 100, 500, gym_evaluation_seeds, quantization=False)\n",
        "    evaluation_dqn_500.extend(rewards)\n",
        "    print(\"Mean Rewards: {}\".format(np.mean(rewards)))\n",
        "    print(\"Deviation: {}\".format(np.std(rewards)))\n",
        "    print(\"-----------------\")\n",
        "np.save(result_dir + '/evaluation_dqn_500', evaluation_dqn_500)\n",
        "print(\"Total Mean Reward: {}\".format(np.mean(evaluation_dqn_500)))\n",
        "print(\"Total Deviation: {}\".format(np.std(evaluation_dqn_500)))"
      ],
      "execution_count": null,
      "outputs": [
        {
          "name": "stdout",
          "output_type": "stream",
          "text": [
            "Run # 0\n",
            "Mean Rewards: 500.0\n",
            "Deviation: 0.0\n",
            "-----------------\n",
            "Run # 1\n",
            "Mean Rewards: 345.26\n",
            "Deviation: 109.2267934162676\n",
            "-----------------\n",
            "Run # 2\n",
            "Mean Rewards: 500.0\n",
            "Deviation: 0.0\n",
            "-----------------\n",
            "Run # 3\n",
            "Mean Rewards: 499.06\n",
            "Deviation: 9.352881908802223\n",
            "-----------------\n",
            "Run # 4\n",
            "Mean Rewards: 500.0\n",
            "Deviation: 0.0\n",
            "-----------------\n",
            "Run # 5\n",
            "Mean Rewards: 500.0\n",
            "Deviation: 0.0\n",
            "-----------------\n",
            "Run # 6\n",
            "Mean Rewards: 470.88\n",
            "Deviation: 64.15579163255644\n",
            "-----------------\n",
            "Run # 7\n",
            "Mean Rewards: 500.0\n",
            "Deviation: 0.0\n",
            "-----------------\n",
            "Run # 8\n",
            "Mean Rewards: 500.0\n",
            "Deviation: 0.0\n",
            "-----------------\n",
            "Run # 9\n",
            "Mean Rewards: 350.22\n",
            "Deviation: 111.67054938523407\n",
            "-----------------\n",
            "Total Mean Reward: 466.542\n",
            "Total Deviation: 80.39728997920264\n"
          ]
        }
      ]
    },
    {
      "cell_type": "code",
      "metadata": {
        "colab": {
          "base_uri": "https://localhost:8080/"
        },
        "id": "QvnSqQaDY7nk",
        "outputId": "8684ae8d-072b-4ee8-fd14-b56cf453955f"
      },
      "source": [
        "# Test best trained DQN on the same environment for 1000 timesteps\n",
        "evaluation_dqn_1000 = []\n",
        "for i in best_runs:\n",
        "    print(\"Run # {}\".format(i))\n",
        "    dqn = QNetwork(architecture, 1).to(device)\n",
        "    dqn.load_state_dict(torch.load(result_dir + '/checkpoint_DQN_{}.pt'.format(i)))\n",
        "    rewards = test_agent.evaluate_agent(dqn, env, 100, 1000, gym_evaluation_seeds, quantization=False)\n",
        "    evaluation_dqn_1000.extend(rewards)\n",
        "    print(\"Mean Rewards: {}\".format(np.mean(rewards)))\n",
        "    print(\"Deviation: {}\".format(np.std(rewards)))\n",
        "    print(\"-----------------\")\n",
        "np.save(result_dir + '/evaluation_dqn_1000', evaluation_dqn_1000)\n",
        "print(\"Total Mean Reward: {}\".format(np.mean(evaluation_dqn_1000)))\n",
        "print(\"Total Deviation: {}\".format(np.std(evaluation_dqn_1000)))"
      ],
      "execution_count": null,
      "outputs": [
        {
          "name": "stdout",
          "output_type": "stream",
          "text": [
            "Run # 0\n",
            "Mean Rewards: 1000.0\n",
            "Deviation: 0.0\n",
            "-----------------\n",
            "Run # 1\n",
            "Mean Rewards: 387.49\n",
            "Deviation: 196.79743367229156\n",
            "-----------------\n",
            "Run # 2\n",
            "Mean Rewards: 1000.0\n",
            "Deviation: 0.0\n",
            "-----------------\n",
            "Run # 3\n",
            "Mean Rewards: 990.14\n",
            "Deviation: 70.4824829301579\n",
            "-----------------\n",
            "Run # 4\n",
            "Mean Rewards: 1000.0\n",
            "Deviation: 0.0\n",
            "-----------------\n",
            "Run # 5\n",
            "Mean Rewards: 991.11\n",
            "Deviation: 40.25019130389321\n",
            "-----------------\n",
            "Run # 6\n",
            "Mean Rewards: 782.0\n",
            "Deviation: 249.85511801842284\n",
            "-----------------\n",
            "Run # 7\n",
            "Mean Rewards: 1000.0\n",
            "Deviation: 0.0\n",
            "-----------------\n",
            "Run # 8\n",
            "Mean Rewards: 1000.0\n",
            "Deviation: 0.0\n",
            "-----------------\n",
            "Run # 9\n",
            "Mean Rewards: 462.63\n",
            "Deviation: 295.4982455108659\n",
            "-----------------\n",
            "Total Mean Reward: 861.337\n",
            "Total Deviation: 267.287275101154\n"
          ]
        }
      ]
    },
    {
      "cell_type": "code",
      "metadata": {
        "colab": {
          "base_uri": "https://localhost:8080/",
          "height": 275
        },
        "id": "iyYZHudFY7nk",
        "outputId": "94271157-dc11-4569-9d8d-02c6210ae43d"
      },
      "source": [
        "# Test best trained DSQN on the same environment for 200 timesteps\n",
        "evaluation_dsqn_200 = []\n",
        "for i in best_runs:\n",
        "    print(\"Run # {}\".format(i))\n",
        "    dsqn = DSQN(architecture, 0, alpha, beta, weight_scale, 1, threshold, simulation_time)\n",
        "    dsqn.load_state_dict(torch.load(result_dir + '/checkpoint_DSQN_{}.pt'.format(i)))\n",
        "    rewards = agent.evaluate_agent(dsqn, env, 100, 200, gym_evaluation_seeds, quantization=False)\n",
        "    evaluation_dsqn_200.extend(rewards)\n",
        "    print(\"Mean Rewards: {}\".format(np.mean(rewards)))\n",
        "    print(\"Deviation: {}\".format(np.std(rewards)))\n",
        "    print(\"-----------------\")\n",
        "np.save(result_dir + '/evaluation_dsqn_200', evaluation_dsqn_200)\n",
        "print(\"Total Mean Reward: {}\".format(np.mean(evaluation_dsqn_200)))\n",
        "print(\"Total Deviation: {}\".format(np.std(evaluation_dsqn_200)))"
      ],
      "execution_count": null,
      "outputs": [
        {
          "name": "stdout",
          "output_type": "stream",
          "text": [
            "Run # 0\n"
          ]
        },
        {
          "ename": "NameError",
          "evalue": "ignored",
          "output_type": "error",
          "traceback": [
            "\u001b[0;31m---------------------------------------------------------------------------\u001b[0m",
            "\u001b[0;31mNameError\u001b[0m                                 Traceback (most recent call last)",
            "\u001b[0;32m<ipython-input-175-5d1f9d22f458>\u001b[0m in \u001b[0;36m<module>\u001b[0;34m()\u001b[0m\n\u001b[1;32m      3\u001b[0m \u001b[0;32mfor\u001b[0m \u001b[0mi\u001b[0m \u001b[0;32min\u001b[0m \u001b[0mbest_runs\u001b[0m\u001b[0;34m:\u001b[0m\u001b[0;34m\u001b[0m\u001b[0;34m\u001b[0m\u001b[0m\n\u001b[1;32m      4\u001b[0m     \u001b[0mprint\u001b[0m\u001b[0;34m(\u001b[0m\u001b[0;34m\"Run # {}\"\u001b[0m\u001b[0;34m.\u001b[0m\u001b[0mformat\u001b[0m\u001b[0;34m(\u001b[0m\u001b[0mi\u001b[0m\u001b[0;34m)\u001b[0m\u001b[0;34m)\u001b[0m\u001b[0;34m\u001b[0m\u001b[0;34m\u001b[0m\u001b[0m\n\u001b[0;32m----> 5\u001b[0;31m     \u001b[0mdsqn\u001b[0m \u001b[0;34m=\u001b[0m \u001b[0mDSQN\u001b[0m\u001b[0;34m(\u001b[0m\u001b[0marchitecture\u001b[0m\u001b[0;34m,\u001b[0m \u001b[0;36m0\u001b[0m\u001b[0;34m,\u001b[0m \u001b[0malpha\u001b[0m\u001b[0;34m,\u001b[0m \u001b[0mbeta\u001b[0m\u001b[0;34m,\u001b[0m \u001b[0mweight_scale\u001b[0m\u001b[0;34m,\u001b[0m \u001b[0;36m1\u001b[0m\u001b[0;34m,\u001b[0m \u001b[0mthreshold\u001b[0m\u001b[0;34m,\u001b[0m \u001b[0msimulation_time\u001b[0m\u001b[0;34m)\u001b[0m\u001b[0;34m\u001b[0m\u001b[0;34m\u001b[0m\u001b[0m\n\u001b[0m\u001b[1;32m      6\u001b[0m     \u001b[0mdsqn\u001b[0m\u001b[0;34m.\u001b[0m\u001b[0mload_state_dict\u001b[0m\u001b[0;34m(\u001b[0m\u001b[0mtorch\u001b[0m\u001b[0;34m.\u001b[0m\u001b[0mload\u001b[0m\u001b[0;34m(\u001b[0m\u001b[0mresult_dir\u001b[0m \u001b[0;34m+\u001b[0m \u001b[0;34m'/checkpoint_DSQN_{}.pt'\u001b[0m\u001b[0;34m.\u001b[0m\u001b[0mformat\u001b[0m\u001b[0;34m(\u001b[0m\u001b[0mi\u001b[0m\u001b[0;34m)\u001b[0m\u001b[0;34m)\u001b[0m\u001b[0;34m)\u001b[0m\u001b[0;34m\u001b[0m\u001b[0;34m\u001b[0m\u001b[0m\n\u001b[1;32m      7\u001b[0m     \u001b[0mrewards\u001b[0m \u001b[0;34m=\u001b[0m \u001b[0magent\u001b[0m\u001b[0;34m.\u001b[0m\u001b[0mevaluate_agent\u001b[0m\u001b[0;34m(\u001b[0m\u001b[0mdsqn\u001b[0m\u001b[0;34m,\u001b[0m \u001b[0menv\u001b[0m\u001b[0;34m,\u001b[0m \u001b[0;36m100\u001b[0m\u001b[0;34m,\u001b[0m \u001b[0;36m200\u001b[0m\u001b[0;34m,\u001b[0m \u001b[0mgym_evaluation_seeds\u001b[0m\u001b[0;34m,\u001b[0m \u001b[0mquantization\u001b[0m\u001b[0;34m=\u001b[0m\u001b[0;32mFalse\u001b[0m\u001b[0;34m)\u001b[0m\u001b[0;34m\u001b[0m\u001b[0;34m\u001b[0m\u001b[0m\n",
            "\u001b[0;31mNameError\u001b[0m: name 'DSQN' is not defined"
          ]
        }
      ]
    },
    {
      "cell_type": "code",
      "metadata": {
        "id": "G6kGRlmtY7nk"
      },
      "source": [
        "# Test best trained DSQN on the same environment for 200 timesteps\n",
        "evaluation_dsqn_500 = []\n",
        "for i in best_runs:\n",
        "    print(\"Run # {}\".format(i))\n",
        "    dsqn = DSQN(architecture, 0, alpha, beta, weight_scale, 1, threshold, simulation_time)\n",
        "    dsqn.load_state_dict(torch.load(result_dir + '/checkpoint_DSQN_{}.pt'.format(i)))\n",
        "    rewards = agent.evaluate_agent(dsqn, 100, 500, gym_evaluation_seeds)\n",
        "    evaluation_dsqn_500.extend(rewards)\n",
        "    print(\"Mean Rewards: {}\".format(np.mean(rewards)))\n",
        "    print(\"Deviation: {}\".format(np.std(rewards)))\n",
        "    print(\"-----------------\")\n",
        "np.save(result_dir + '/evaluation_dsqn_500', evaluation_dsqn_500)\n",
        "print(\"Total Mean Reward: {}\".format(np.mean(evaluation_dsqn_500)))\n",
        "print(\"Total Deviation: {}\".format(np.std(evaluation_dsqn_500)))"
      ],
      "execution_count": null,
      "outputs": []
    },
    {
      "cell_type": "code",
      "metadata": {
        "id": "5KJgxGBsY7nl"
      },
      "source": [
        "# Test best trained DSQN on the same environment for 200 timesteps\n",
        "evaluation_dsqn_1000 = []\n",
        "for i in best_runs:\n",
        "    print(\"Run # {}\".format(i))\n",
        "    dsqn = DSQN(architecture, 0, alpha, beta, weight_scale, 1, threshold, simulation_time)\n",
        "    dsqn.load_state_dict(torch.load(result_dir + '/checkpoint_DSQN_{}.pt'.format(i)))\n",
        "    rewards = agent.evaluate_agent(dsqn, 100, 1000, gym_evaluation_seeds)\n",
        "    evaluation_dsqn_1000.extend(rewards)\n",
        "    print(\"Mean Rewards: {}\".format(np.mean(rewards)))\n",
        "    print(\"Deviation: {}\".format(np.std(rewards)))\n",
        "    print(\"-----------------\")\n",
        "np.save(result_dir + '/evaluation_dsqn_1000', evaluation_dsqn_1000)\n",
        "print(\"Total Mean Reward: {}\".format(np.mean(evaluation_dsqn_1000)))\n",
        "print(\"Total Deviation: {}\".format(np.std(evaluation_dsqn_1000)))"
      ],
      "execution_count": null,
      "outputs": []
    },
    {
      "cell_type": "code",
      "metadata": {
        "id": "pf_ON2_BY7nl"
      },
      "source": [
        ""
      ],
      "execution_count": null,
      "outputs": []
    },
    {
      "cell_type": "code",
      "metadata": {
        "id": "sdevNB3vY7nl"
      },
      "source": [
        "means = [np.mean(evaluation_dqn_200), np.mean(evaluation_dsqn_200)]\n",
        "stds = [np.std(evaluation_dqn_200), np.std(evaluation_dsqn_200)]\n",
        "#x_pos = np.arange(len(means))\n",
        "x_pos = [0.5, .65]\n",
        "\n",
        "plt.bar(x_pos, means, yerr=stds, align='center', alpha=0.5, capsize=10, width=0.1)\n",
        "plt.ylim(0, 250)\n",
        "plt.xticks(x_pos, ['DQN', 'DSQN'])\n",
        "plt.ylabel('Accumlative Reward')\n",
        "plt.title('CartPole-v0 Evaluation over 200 timesteps')\n",
        "plt.grid(True)\n",
        "plt.savefig(result_dir + '/CartPole_evaluation_200.png', dpi=1000)"
      ],
      "execution_count": null,
      "outputs": []
    },
    {
      "cell_type": "code",
      "metadata": {
        "id": "LtAxA5rEY7nl"
      },
      "source": [
        "means = [np.mean(evaluation_dqn_500), np.mean(evaluation_dsqn_500)]\n",
        "stds = [np.std(evaluation_dqn_500), np.std(evaluation_dsqn_500)]\n",
        "x_pos = [0.5, .65]\n",
        "\n",
        "plt.bar(x_pos, means, yerr=stds, align='center', alpha=0.5, capsize=10, width=0.1)\n",
        "plt.ylim(0, 550)\n",
        "plt.xticks(x_pos, ['DQN', 'DSQN'])\n",
        "plt.ylabel('Accumlative Reward')\n",
        "plt.title('CartPole-v0 Evaluation over 500 timesteps')\n",
        "plt.grid(True)\n",
        "plt.savefig(result_dir + '/CartPole_evaluation_500.png', dpi=1000)"
      ],
      "execution_count": null,
      "outputs": []
    },
    {
      "cell_type": "code",
      "metadata": {
        "id": "W3PCQU-pY7nm"
      },
      "source": [
        "means = [np.mean(evaluation_dqn_1000), np.mean(evaluation_dsqn_1000)]\n",
        "stds = [np.std(evaluation_dqn_1000), np.std(evaluation_dsqn_1000)]\n",
        "x_pos = [0.5, .65]\n",
        "\n",
        "plt.bar(x_pos, means, yerr=stds, align='center', alpha=0.5, capsize=10, width=0.1)\n",
        "plt.ylim(0, 1150)\n",
        "plt.xticks(x_pos, ['DQN', 'DSQN'])\n",
        "plt.ylabel('Accumlative Reward')\n",
        "plt.title('CartPole-v0 Evaluation over 1000 timesteps')\n",
        "plt.grid(True)\n",
        "plt.savefig(result_dir + '/CartPole_evaluation_1000.png', dpi=1000)"
      ],
      "execution_count": null,
      "outputs": []
    },
    {
      "cell_type": "code",
      "metadata": {
        "id": "o7N24X3iY7nm"
      },
      "source": [
        "# Get the membrane potential of the first layer, first item in batch\n",
        "potential = [mem[1][0] for mem in mem_rec]\n",
        "neuron1 = [p[0] for p in potential]\n",
        "neuron2 = [p[1] for p in potential]"
      ],
      "execution_count": null,
      "outputs": []
    },
    {
      "cell_type": "code",
      "metadata": {
        "id": "uvP24L4yY7nm"
      },
      "source": [
        "# Plot the membrane potential for both output neurons for one random run before training\n",
        "plt.plot(neuron1, color='b', label='Output Neuron 1')\n",
        "plt.plot(neuron2, color='g', label='Output Neuron 2')\n",
        "plt.grid(True)\n",
        "plt.ylim(-25, 25)\n",
        "plt.xlabel('time steps')\n",
        "plt.ylabel('membrane potential')\n",
        "plt.legend(loc='upper right')\n",
        "plt.savefig('cartpole_output_neurons_potential_b4_training.png', dpi=1000)"
      ],
      "execution_count": null,
      "outputs": []
    },
    {
      "cell_type": "code",
      "metadata": {
        "id": "IVEEIr89Y7nn"
      },
      "source": [
        "# Get the membrane potential of the hidden layer neurons\n",
        "potential = [mem[0][0] for mem in mem_rec]\n",
        "neurons = []\n",
        "for i in range(len(potential[0])):\n",
        "    neurons.append([p[i] for p in potential])"
      ],
      "execution_count": null,
      "outputs": []
    },
    {
      "cell_type": "code",
      "metadata": {
        "id": "n71bkoH1Y7nn",
        "scrolled": false
      },
      "source": [
        "# Plot the membrane potential for the hidden layer neurons\n",
        "for i in range(len(neurons)):\n",
        "    plt.plot(neurons[i], label='neuron {}'.format(i + 1))\n",
        "plt.grid(True)\n",
        "plt.legend(loc='best')\n",
        "plt.xlabel('time')\n",
        "plt.ylabel('membrane potential')"
      ],
      "execution_count": null,
      "outputs": []
    },
    {
      "cell_type": "markdown",
      "metadata": {
        "id": "ctzzw6EnY7nn"
      },
      "source": [
        "Test Code"
      ]
    },
    {
      "cell_type": "code",
      "metadata": {
        "id": "rZJK_0h6Y7nn"
      },
      "source": [
        "# Fill the play buffer with some data\n",
        "env = gym.make(env_name)\n",
        "memory = ReplayBuffer(replay_memory_size, batch_size, random_seeds[0])\n",
        "for i in range(1000):\n",
        "    print(\"Episode: {}\".format(i), end='\\r')\n",
        "    state = env.reset()\n",
        "    for t in range(1000):\n",
        "        action = random.randint(0, 1)\n",
        "        next_state, reward, done, _ = env.step(action)\n",
        "        memory.add(state, action, reward, next_state, done)\n",
        "        state = next_state\n",
        "        if done:\n",
        "            break\n"
      ],
      "execution_count": null,
      "outputs": []
    },
    {
      "cell_type": "code",
      "metadata": {
        "id": "beMrVpyWY7no"
      },
      "source": [
        "import sunblaze_envs"
      ],
      "execution_count": null,
      "outputs": []
    },
    {
      "cell_type": "code",
      "metadata": {
        "id": "qZTQhl8vY7no"
      },
      "source": [
        "random_env = sunblaze_envs.make('SunblazeCartPoleRandomNormal-v0')"
      ],
      "execution_count": null,
      "outputs": []
    },
    {
      "cell_type": "code",
      "metadata": {
        "id": "Wybf3NogY7no"
      },
      "source": [
        "result_dir = 'result_20_2021122'\n"
      ],
      "execution_count": null,
      "outputs": []
    },
    {
      "cell_type": "code",
      "metadata": {
        "id": "K-zaUTN8Y7no"
      },
      "source": [
        "evaluation_dsqn_random_200 = []\n",
        "\n",
        "dsqn = DSQN(architecture, 0, alpha, beta, weight_scale, 1, threshold, simulation_time)\n",
        "optimizer = optim.Adam(dsqn.parameters(), lr=learning_rate)\n",
        "\n",
        "for i in best_runs:\n",
        "    print(\"Run # {}\".format(i))\n",
        "    dsqn = DSQN(architecture, 0, alpha, beta, weight_scale, 1, threshold, simulation_time)\n",
        "    dsqn.load_state_dict(torch.load(result_dir + '/checkpoint_DSQN_{}.pt'.format(i)))\n",
        "    \n",
        "    agent = Agent(env_name, dsqn, dsqn, architecture, batch_size,\n",
        "              replay_memory_size, discount_factor, eps_start, eps_end, eps_decay,\n",
        "              update_every, target_update_frequency, optimizer, learning_rate,\n",
        "              num_episodes, max_steps, 0, result_dir, 0, tau, SQN=True, two_neurons=False, random=True)\n",
        "    \n",
        "    rewards = agent.evaluate_agent(dsqn, 100, 200, gym_evaluation_seeds)\n",
        "    evaluation_dsqn_random_200.extend(rewards)\n",
        "    print(\"Mean Rewards: {}\".format(np.mean(rewards)))\n",
        "    print(\"Deviation: {}\".format(np.std(rewards)))\n",
        "    print(\"-----------------\")\n",
        "np.save(result_dir + '/evaluation_dsqn_200', evaluation_dsqn_random_200)\n",
        "print(\"Total Mean Reward: {}\".format(np.mean(evaluation_dsqn_random_200)))\n",
        "print(\"Total Deviation: {}\".format(np.std(evaluation_dsqn_random_200)))"
      ],
      "execution_count": null,
      "outputs": []
    },
    {
      "cell_type": "code",
      "metadata": {
        "id": "oPzLzY9IY7np"
      },
      "source": [
        "evaluation_dqn_random_200 = []\n",
        "\n",
        "for i in best_runs:\n",
        "    print(\"Run # {}\".format(i))\n",
        "    dqn = QNetwork(architecture, 1).to(device)\n",
        "    dqn.load_state_dict(torch.load(result_dir + '/checkpoint_DQN_{}.pt'.format(i)))\n",
        "    rewards = agent.evaluate_agent(dqn, 100, 200, gym_evaluation_seeds)\n",
        "    evaluation_dqn_random_200.extend(rewards)\n",
        "    print(\"Mean Rewards: {}\".format(np.mean(rewards)))\n",
        "    print(\"Deviation: {}\".format(np.std(rewards)))\n",
        "    print(\"-----------------\")\n",
        "np.save(result_dir + '/evaluation_dqn_200', evaluation_dqn_random_200)\n",
        "print(\"Total Mean Reward: {}\".format(np.mean(evaluation_dqn_random_200)))\n",
        "print(\"Total Deviation: {}\".format(np.std(evaluation_dqn_random_200)))"
      ],
      "execution_count": null,
      "outputs": []
    },
    {
      "cell_type": "code",
      "metadata": {
        "id": "klmqC7TdY7np"
      },
      "source": [
        "result_dir"
      ],
      "execution_count": null,
      "outputs": []
    }
  ]
}